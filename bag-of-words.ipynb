{
 "cells": [
  {
   "cell_type": "code",
   "execution_count": 20,
   "metadata": {
    "collapsed": true
   },
   "outputs": [],
   "source": [
    "# Implementing my own \"bag of words\" from scratch for fun!"
   ]
  },
  {
   "cell_type": "code",
   "execution_count": 19,
   "metadata": {
    "collapsed": true
   },
   "outputs": [],
   "source": [
    "# Fake dataset consist of few sentences.\n",
    "data = ['Hello, how are you!',\n",
    "        'Win money, win from home.',\n",
    "        'Call me now.',\n",
    "        'My heart will go on and on....',\n",
    "        'France Vs Croatia - FIFA Worldcup 2018 Final!',\n",
    "        'Hello, Call hello you tomorrow?',\n",
    "        'Hey, didnt I gave you his number']"
   ]
  },
  {
   "cell_type": "code",
   "execution_count": 14,
   "metadata": {},
   "outputs": [
    {
     "name": "stdout",
     "output_type": "stream",
     "text": [
      "['hello, how are you!', 'win money, win from home.', 'call me now.', 'my heart will go on and on....', 'france vs croatia - fifa worldcup 2018 final!', 'hello, call hello you tomorrow?', 'hey, didnt i gave you his number']\n"
     ]
    }
   ],
   "source": [
    "# Convert all sentences to lower case using\n",
    "# lower() method in python\n",
    "\n",
    "lower_case_data = []\n",
    "lower_case_data = [d.lower() for d in data]\n",
    "print(lower_case_data)"
   ]
  },
  {
   "cell_type": "code",
   "execution_count": 15,
   "metadata": {},
   "outputs": [
    {
     "data": {
      "text/plain": [
       "['hello how are you',\n",
       " 'win money win from home',\n",
       " 'call me now',\n",
       " 'my heart will go on and on',\n",
       " 'france vs croatia  fifa worldcup 2018 final',\n",
       " 'hello call hello you tomorrow',\n",
       " 'hey didnt i gave you his number']"
      ]
     },
     "execution_count": 15,
     "metadata": {},
     "output_type": "execute_result"
    }
   ],
   "source": [
    "# Removing all punctuations using string lib\n",
    "\n",
    "import string\n",
    "\n",
    "sans_punctuation_data = []\n",
    "for i in lower_case_data:\n",
    "    sans_punctuation_data.append(i.translate(str.maketrans(\"\",\"\", string.punctuation)))\n",
    "    \n",
    "sans_punctuation_data"
   ]
  },
  {
   "cell_type": "code",
   "execution_count": 16,
   "metadata": {},
   "outputs": [
    {
     "data": {
      "text/plain": [
       "[['hello', 'how', 'are', 'you'],\n",
       " ['win', 'money', 'win', 'from', 'home'],\n",
       " ['call', 'me', 'now'],\n",
       " ['my', 'heart', 'will', 'go', 'on', 'and', 'on'],\n",
       " ['france', 'vs', 'croatia', 'fifa', 'worldcup', '2018', 'final'],\n",
       " ['hello', 'call', 'hello', 'you', 'tomorrow'],\n",
       " ['hey', 'didnt', 'i', 'gave', 'you', 'his', 'number']]"
      ]
     },
     "execution_count": 16,
     "metadata": {},
     "output_type": "execute_result"
    }
   ],
   "source": [
    "# Tokenisation -- splitting the sentence in words\n",
    "# I have used split() method in python\n",
    "\n",
    "preprocessed_data = [[w for w in d.split()] for d in sans_punctuation_data]\n",
    "preprocessed_data"
   ]
  },
  {
   "cell_type": "code",
   "execution_count": 17,
   "metadata": {},
   "outputs": [
    {
     "name": "stdout",
     "output_type": "stream",
     "text": [
      "[Counter({'hello': 1, 'how': 1, 'are': 1, 'you': 1}),\n",
      " Counter({'win': 2, 'money': 1, 'from': 1, 'home': 1}),\n",
      " Counter({'call': 1, 'me': 1, 'now': 1}),\n",
      " Counter({'on': 2, 'my': 1, 'heart': 1, 'will': 1, 'go': 1, 'and': 1}),\n",
      " Counter({'france': 1,\n",
      "          'vs': 1,\n",
      "          'croatia': 1,\n",
      "          'fifa': 1,\n",
      "          'worldcup': 1,\n",
      "          '2018': 1,\n",
      "          'final': 1}),\n",
      " Counter({'hello': 2, 'call': 1, 'you': 1, 'tomorrow': 1}),\n",
      " Counter({'hey': 1,\n",
      "          'didnt': 1,\n",
      "          'i': 1,\n",
      "          'gave': 1,\n",
      "          'you': 1,\n",
      "          'his': 1,\n",
      "          'number': 1})]\n"
     ]
    }
   ],
   "source": [
    "# Count frequencies of each word in each sentence using Counter\n",
    "\n",
    "from collections import Counter\n",
    "import pprint\n",
    "\n",
    "frequency_list = [Counter(d) for d in preprocessed_data]\n",
    "pprint.pprint(frequency_list)"
   ]
  },
  {
   "cell_type": "code",
   "execution_count": null,
   "metadata": {
    "collapsed": true
   },
   "outputs": [],
   "source": []
  }
 ],
 "metadata": {
  "kernelspec": {
   "display_name": "Python 3",
   "language": "python",
   "name": "python3"
  },
  "language_info": {
   "codemirror_mode": {
    "name": "ipython",
    "version": 3
   },
   "file_extension": ".py",
   "mimetype": "text/x-python",
   "name": "python",
   "nbconvert_exporter": "python",
   "pygments_lexer": "ipython3",
   "version": "3.6.3"
  }
 },
 "nbformat": 4,
 "nbformat_minor": 2
}
